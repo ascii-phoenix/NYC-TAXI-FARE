{
 "cells": [
  {
   "cell_type": "code",
   "execution_count": null,
   "id": "b676d43a",
   "metadata": {},
   "outputs": [],
   "source": []
  },
  {
   "cell_type": "markdown",
   "id": "ae2e99e3",
   "metadata": {},
   "source": [
    "4.1 Aussagekräftige Felder\n",
    "Die wichtigsten Felder für das Modell sind:\n",
    "\n",
    "distance_km: Hauptprädiktor, da die Entfernung direkt mit dem Fahrpreis korreliert.\n",
    "passenger_count: Beeinflusst den Preis, insbesondere bei Gruppenfahrten.\n",
    "pickup_hour: Zeitliche Schwankungen, z. B. höhere Preise während Stoßzeiten.\n",
    "pickup_day_of_week: Wochentag kann Einfluss auf Nachfrage und Preis haben."
   ]
  },
  {
   "cell_type": "markdown",
   "id": "0de07235",
   "metadata": {},
   "source": [
    "4.2 Messmetrik\n",
    "Die gewählte Messmetrik ist der Root Mean Squared Error (RMSE), da sie die durchschnittliche Abweichung der Vorhersagen vom tatsächlichen Wert misst und empfindlich auf große Fehler reagiert. Der RMSE wurde bereits berechnet und für jedes Modell ausgegeben."
   ]
  },
  {
   "cell_type": "markdown",
   "id": "99556129",
   "metadata": {},
   "source": [
    "4.3 Wahrheitsmatrix, Sensitivität und Spezifizität\n",
    "Da es sich um ein Regressionsproblem handelt, ist eine Wahrheitsmatrix nicht direkt anwendbar. Um dies zu simulieren, könnten Schwellenwerte definiert werden, z. B. ob der vorhergesagte Fahrpreis innerhalb eines bestimmten Bereichs des tatsächlichen Preises liegt. Sensitivität und Spezifizität könnten dann wie folgt berechnet werden:"
   ]
  }
 ],
 "metadata": {
  "kernelspec": {
   "display_name": "Python 3",
   "language": "python",
   "name": "python3"
  },
  "language_info": {
   "codemirror_mode": {
    "name": "ipython",
    "version": 3
   },
   "file_extension": ".py",
   "mimetype": "text/x-python",
   "name": "python",
   "nbconvert_exporter": "python",
   "pygments_lexer": "ipython3",
   "version": "3.9.13"
  }
 },
 "nbformat": 4,
 "nbformat_minor": 5
}
