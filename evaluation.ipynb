{
 "cells": [
  {
   "cell_type": "code",
   "execution_count": 36,
   "id": "8c05a84f",
   "metadata": {},
   "outputs": [
    {
     "name": "stdout",
     "output_type": "stream",
     "text": [
      "Requirement already satisfied: seaborn in c:\\users\\eloik\\appdata\\local\\programs\\python\\python39\\lib\\site-packages (0.13.2)\n",
      "Requirement already satisfied: numpy!=1.24.0,>=1.20 in c:\\users\\eloik\\appdata\\local\\programs\\python\\python39\\lib\\site-packages (from seaborn) (2.0.2)\n",
      "Requirement already satisfied: pandas>=1.2 in c:\\users\\eloik\\appdata\\local\\programs\\python\\python39\\lib\\site-packages (from seaborn) (2.2.3)\n",
      "Requirement already satisfied: matplotlib!=3.6.1,>=3.4 in c:\\users\\eloik\\appdata\\local\\programs\\python\\python39\\lib\\site-packages (from seaborn) (3.9.4)\n",
      "Requirement already satisfied: contourpy>=1.0.1 in c:\\users\\eloik\\appdata\\local\\programs\\python\\python39\\lib\\site-packages (from matplotlib!=3.6.1,>=3.4->seaborn) (1.3.0)\n",
      "Requirement already satisfied: cycler>=0.10 in c:\\users\\eloik\\appdata\\local\\programs\\python\\python39\\lib\\site-packages (from matplotlib!=3.6.1,>=3.4->seaborn) (0.12.1)\n",
      "Requirement already satisfied: fonttools>=4.22.0 in c:\\users\\eloik\\appdata\\local\\programs\\python\\python39\\lib\\site-packages (from matplotlib!=3.6.1,>=3.4->seaborn) (4.56.0)\n",
      "Requirement already satisfied: kiwisolver>=1.3.1 in c:\\users\\eloik\\appdata\\local\\programs\\python\\python39\\lib\\site-packages (from matplotlib!=3.6.1,>=3.4->seaborn) (1.4.7)\n",
      "Requirement already satisfied: packaging>=20.0 in c:\\users\\eloik\\appdata\\local\\programs\\python\\python39\\lib\\site-packages (from matplotlib!=3.6.1,>=3.4->seaborn) (24.2)\n",
      "Requirement already satisfied: pillow>=8 in c:\\users\\eloik\\appdata\\local\\programs\\python\\python39\\lib\\site-packages (from matplotlib!=3.6.1,>=3.4->seaborn) (11.1.0)\n",
      "Requirement already satisfied: pyparsing>=2.3.1 in c:\\users\\eloik\\appdata\\local\\programs\\python\\python39\\lib\\site-packages (from matplotlib!=3.6.1,>=3.4->seaborn) (3.2.1)\n",
      "Requirement already satisfied: python-dateutil>=2.7 in c:\\users\\eloik\\appdata\\local\\programs\\python\\python39\\lib\\site-packages (from matplotlib!=3.6.1,>=3.4->seaborn) (2.9.0.post0)\n",
      "Requirement already satisfied: importlib-resources>=3.2.0 in c:\\users\\eloik\\appdata\\local\\programs\\python\\python39\\lib\\site-packages (from matplotlib!=3.6.1,>=3.4->seaborn) (6.5.2)\n",
      "Requirement already satisfied: zipp>=3.1.0 in c:\\users\\eloik\\appdata\\local\\programs\\python\\python39\\lib\\site-packages (from importlib-resources>=3.2.0->matplotlib!=3.6.1,>=3.4->seaborn) (3.21.0)\n",
      "Requirement already satisfied: pytz>=2020.1 in c:\\users\\eloik\\appdata\\local\\programs\\python\\python39\\lib\\site-packages (from pandas>=1.2->seaborn) (2025.1)\n",
      "Requirement already satisfied: tzdata>=2022.7 in c:\\users\\eloik\\appdata\\local\\programs\\python\\python39\\lib\\site-packages (from pandas>=1.2->seaborn) (2025.2)\n",
      "Requirement already satisfied: six>=1.5 in c:\\users\\eloik\\appdata\\local\\programs\\python\\python39\\lib\\site-packages (from python-dateutil>=2.7->matplotlib!=3.6.1,>=3.4->seaborn) (1.17.0)\n"
     ]
    },
    {
     "name": "stderr",
     "output_type": "stream",
     "text": [
      "\n",
      "[notice] A new release of pip is available: 25.1 -> 25.1.1\n",
      "[notice] To update, run: python.exe -m pip install --upgrade pip\n"
     ]
    }
   ],
   "source": [
    "!pip install seaborn"
   ]
  },
  {
   "cell_type": "code",
   "execution_count": 18,
   "id": "b676d43a",
   "metadata": {},
   "outputs": [],
   "source": [
    "import pandas as pd\n",
    "from sklearn.model_selection import train_test_split\n",
    "import numpy as np\n",
    "\n",
    "def haversine(lat1, lon1, lat2, lon2):\n",
    "    R = 6371  # Erdradius in km\n",
    "    phi1 = np.radians(lat1)\n",
    "    phi2 = np.radians(lat2)\n",
    "    dphi = np.radians(lat2 - lat1)\n",
    "    dlambda = np.radians(lon2 - lon1)\n",
    "    a = np.sin(dphi/2)**2 + np.cos(phi1) * np.cos(phi2) * np.sin(dlambda/2)**2\n",
    "    return 2 * R * np.arcsin(np.sqrt(a))\n",
    "\n",
    "\n",
    "\n",
    "# Daten laden\n",
    "url = 'nyc_taxi_fare_cleaned.csv'\n",
    "df = pd.read_csv(url, nrows=100_000)\n",
    "\n",
    "# Daten säubern\n",
    "df = df.dropna()\n",
    "df = df[(df['fare_amount'] > 0) & (df['passenger_count'] > 0) & (df['passenger_count'] <= 6)]\n",
    "\n",
    "df[\"distance_km\"] = haversine(\n",
    "    df[\"pickup_latitude\"], df[\"pickup_longitude\"],\n",
    "    df[\"dropoff_latitude\"], df[\"dropoff_longitude\"]\n",
    ")\n",
    "\n",
    "# Features berechnen\n",
    "df[\"pickup_datetime\"] = pd.to_datetime(df[\"pickup_datetime\"])\n",
    "df[\"pickup_hour\"] = df[\"pickup_datetime\"].dt.hour\n",
    "df[\"pickup_day_of_week\"] = df[\"pickup_datetime\"].dt.dayofweek\n",
    "df[\"distance_km\"] = haversine(\n",
    "    df[\"pickup_latitude\"], df[\"pickup_longitude\"],\n",
    "    df[\"dropoff_latitude\"], df[\"dropoff_longitude\"]\n",
    ")\n",
    "\n",
    "# Input- und Zielvariablen\n",
    "X = df[[\"distance_km\", \"passenger_count\", \"pickup_hour\", \"pickup_day_of_week\"]]\n",
    "y = df[\"fare_amount\"]\n",
    "\n",
    "# Train-Test-Split\n",
    "X_train, X_test, y_train, y_test = train_test_split(X, y, test_size=0.2, random_state=42)"
   ]
  },
  {
   "cell_type": "markdown",
   "id": "ae2e99e3",
   "metadata": {},
   "source": [
    "### 4.1 Aussagekräftige Felder\n",
    "Die wichtigsten Felder für das Modell sind:\n",
    "- **distance_km**: Hauptprädiktor, da die Entfernung direkt mit dem Fahrpreis korreliert.\n",
    "- **passenger_count**: Beeinflusst den Preis, insbesondere bei Gruppenfahrten.\n",
    "- **pickup_hour**: Zeitliche Schwankungen, z. B. höhere Preise während Stoßzeiten.\n",
    "- **pickup_day_of_week**: Wochentag kann Einfluss auf Nachfrage und Preis haben.\n",
    "\n",
    "Diese Felder wurden basierend auf ihrer logischen Relevanz und ihrer Beziehung zur Zielvariablen ausgewählt."
   ]
  },
  {
   "cell_type": "markdown",
   "id": "0de07235",
   "metadata": {},
   "source": [
    "4.2 Messmetrik\n",
    "Die gewählte Messmetrik ist der Root Mean Squared Error (RMSE), da sie die durchschnittliche Abweichung der Vorhersagen vom tatsächlichen Wert misst und empfindlich auf große Fehler reagiert. Der RMSE wurde bereits berechnet und für jedes Modell ausgegeben."
   ]
  },
  {
   "cell_type": "markdown",
   "id": "99556129",
   "metadata": {},
   "source": [
    "### 4.3 Wahrheitsmatrix, Sensitivität und Spezifizität\n",
    "\n",
    "Da es sich um ein Regressionsproblem handelt, wurde eine Wahrheitsmatrix simuliert, indem die Vorhersagen in zwei Kategorien aufgeteilt wurden:\n",
    "1. **Über dem tatsächlichen Wert**: Vorhersagen, die den tatsächlichen Wert überschreiten.\n",
    "2. **Unter dem tatsächlichen Wert**: Vorhersagen, die unter dem tatsächlichen Wert liegen.\n",
    "\n",
    "Ein Schwellenwert von ±4 USD wurde definiert, um zu bestimmen, ob eine Vorhersage als \"korrekt\" gilt. Die Wahrheitsmatrix zeigt die Verteilung der Vorhersagen in diesen Kategorien.\n",
    "\n",
    "#### Berechnung:\n",
    "- **True Positive (TP)**: Vorhersagen, die über dem tatsächlichen Wert liegen und innerhalb des Schwellenwerts korrekt sind.\n",
    "- **True Negative (TN)**: Vorhersagen, die unter dem tatsächlichen Wert liegen und innerhalb des Schwellenwerts korrekt sind.\n",
    "- **False Positive (FP)**: Vorhersagen, die über dem tatsächlichen Wert liegen, aber den Schwellenwert überschreiten.\n",
    "- **False Negative (FN)**: Vorhersagen, die unter dem tatsächlichen Wert liegen, aber den Schwellenwert überschreiten.\n",
    "\n",
    "#### Ergebnisse:\n",
    "Die Sensitivität und Spezifizität wurden wie folgt berechnet:\n",
    "- **Sensitivität**: Anteil der korrekt vorhergesagten positiven Fälle (über dem tatsächlichen Wert).\n",
    "- **Spezifizität**: Anteil der korrekt vorhergesagten negativen Fälle (unter dem tatsächlichen Wert)."
   ]
  },
  {
   "cell_type": "code",
   "execution_count": null,
   "id": "84f22652",
   "metadata": {},
   "outputs": [
    {
     "data": {
      "image/png": "[encoded data removed]",
      "text/plain": [
       "<Figure size 800x600 with 2 Axes>"
      ]
     },
     "metadata": {},
     "output_type": "display_data"
    },
    {
     "name": "stdout",
     "output_type": "stream",
     "text": [
      "Sensitivität: 0.65\n",
      "Spezifizität: 0.48\n"
     ]
    }
   ],
   "source": [
    "import seaborn as sns\n",
    "import matplotlib.pyplot as plt\n",
    "from sklearn.metrics import confusion_matrix\n",
    "import numpy as np\n",
    "from sklearn.metrics import confusion_matrix\n",
    "\n",
    "# Schwellenwert definieren (z. B. ±2 USD)\n",
    "threshold = 2.0\n",
    "\n",
    "y_true_binary = np.abs(y_test - y_pred) <= threshold  \n",
    "y_pred_binary = np.where(y_pred > y_test, 1, 0)\n",
    "cm = confusion_matrix(y_true_binary, y_pred_binary)\n",
    "tn, fp, fn, tp = cm.ravel()\n",
    "sensitivity = tp / (tp + fn) if (tp + fn) > 0 else 0\n",
    "specificity = tn / (tn + fp) if (tn + fp) > 0 else 0\n",
    "plt.figure(figsize=(8, 6))\n",
    "sns.heatmap(cm, annot=True, fmt=\"d\", cmap=\"Blues\", xticklabels=[\"Unter dem Wert\", \"Über dem Wert\"], yticklabels=[\"Nicht im Grenzbereich\", \"Im Grenzbereich\"])\n",
    "plt.xlabel(\"Vorhersage\")\n",
    "plt.ylabel(\"Tatsächlich\")\n",
    "plt.title(\"Wahrheitsmatrix\")\n",
    "plt.show()\n",
    "print(f\"Sensitivität: {sensitivity:.2f}\")\n",
    "print(f\"Spezifizität: {specificity:.2f}\")"
   ]
  }
 ],
 "metadata": {
  "kernelspec": {
   "display_name": "Python 3",
   "language": "python",
   "name": "python3"
  },
  "language_info": {
   "codemirror_mode": {
    "name": "ipython",
    "version": 3
   },
   "file_extension": ".py",
   "mimetype": "text/x-python",
   "name": "python",
   "nbconvert_exporter": "python",
   "pygments_lexer": "ipython3",
   "version": "3.9.13"
  }
 },
 "nbformat": 4,
 "nbformat_minor": 5
}
